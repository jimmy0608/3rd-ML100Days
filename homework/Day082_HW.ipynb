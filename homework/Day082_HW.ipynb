{
 "cells": [
  {
   "cell_type": "markdown",
   "metadata": {},
   "source": [
    "## Work\n",
    "1. 請比較使用不同層數以及不同 Dropout rate 對訓練的效果\n",
    "2. 將 optimizer 改成使用 Adam 並加上適當的 dropout rate 檢視結果"
   ]
  },
  {
   "cell_type": "code",
   "execution_count": 8,
   "metadata": {},
   "outputs": [],
   "source": [
    "import os\n",
    "import keras\n",
    "import itertools\n",
    "# Disable GPU\n",
    "os.environ[\"CUDA_VISIBLE_DEVICES\"] = \"0\""
   ]
  },
  {
   "cell_type": "code",
   "execution_count": 9,
   "metadata": {},
   "outputs": [],
   "source": [
    "train, test = keras.datasets.cifar10.load_data()"
   ]
  },
  {
   "cell_type": "code",
   "execution_count": 10,
   "metadata": {},
   "outputs": [],
   "source": [
    "## 資料前處理\n",
    "def preproc_x(x, flatten=True):\n",
    "    x = x / 255.\n",
    "    if flatten:\n",
    "        x = x.reshape((len(x), -1))\n",
    "    return x\n",
    "\n",
    "def preproc_y(y, num_classes=10):\n",
    "    if y.shape[-1] == 1:\n",
    "        y = keras.utils.to_categorical(y, num_classes)\n",
    "    return y    "
   ]
  },
  {
   "cell_type": "code",
   "execution_count": 11,
   "metadata": {},
   "outputs": [],
   "source": [
    "x_train, y_train = train\n",
    "x_test, y_test = test\n",
    "\n",
    "# Preproc the inputs\n",
    "x_train = preproc_x(x_train)\n",
    "x_test = preproc_x(x_test)\n",
    "\n",
    "# Preprc the outputs\n",
    "y_train = preproc_y(y_train)\n",
    "y_test = preproc_y(y_test)"
   ]
  },
  {
   "cell_type": "code",
   "execution_count": 12,
   "metadata": {},
   "outputs": [],
   "source": [
    "from keras.layers import Dropout\n",
    "\n",
    "def build_mlp(input_shape, output_units=10, num_neurons=[512, 256, 128], drp_ratio=0.2):\n",
    "    \"\"\"Code Here\n",
    "    建立你的神經網路\n",
    "    \"\"\"\n",
    "    input_layer = keras.layers.Input(input_shape)\n",
    "    \n",
    "    for i, n_units in enumerate(num_neurons):\n",
    "        if i == 0:\n",
    "            x = keras.layers.Dense(units=n_units, \n",
    "                                   activation=\"relu\", \n",
    "                                   name=\"hidden_layer\"+str(i+1))(input_layer)\n",
    "            x = Dropout(drp_ratio)(x)\n",
    "        else:\n",
    "            x = keras.layers.Dense(units=n_units, \n",
    "                                   activation=\"relu\", \n",
    "                                   name=\"hidden_layer\"+str(i+1))(x)\n",
    "            x = Dropout(drp_ratio)(x)\n",
    "    \n",
    "    out = keras.layers.Dense(units=output_units, activation=\"softmax\", name=\"output\")(x)\n",
    "    \n",
    "    model = keras.models.Model(inputs=[input_layer], outputs=[out])\n",
    "    return model"
   ]
  },
  {
   "cell_type": "code",
   "execution_count": 13,
   "metadata": {},
   "outputs": [],
   "source": [
    "\"\"\"Code Here\n",
    "設定超參數\n",
    "\"\"\"\n",
    "## 超參數設定\n",
    "LEARNING_RATE = 1e-3\n",
    "EPOCHS = 50\n",
    "BATCH_SIZE = 256\n",
    "MOMENTUM = 0.95\n",
    "Dropout_EXP = 0.25"
   ]
  },
  {
   "cell_type": "code",
   "execution_count": 14,
   "metadata": {
    "scrolled": true
   },
   "outputs": [
    {
     "name": "stdout",
     "output_type": "stream",
     "text": [
      "Model: \"model_2\"\n",
      "_________________________________________________________________\n",
      "Layer (type)                 Output Shape              Param #   \n",
      "=================================================================\n",
      "input_2 (InputLayer)         (None, 3072)              0         \n",
      "_________________________________________________________________\n",
      "hidden_layer1 (Dense)        (None, 512)               1573376   \n",
      "_________________________________________________________________\n",
      "dropout_4 (Dropout)          (None, 512)               0         \n",
      "_________________________________________________________________\n",
      "hidden_layer2 (Dense)        (None, 256)               131328    \n",
      "_________________________________________________________________\n",
      "dropout_5 (Dropout)          (None, 256)               0         \n",
      "_________________________________________________________________\n",
      "hidden_layer3 (Dense)        (None, 128)               32896     \n",
      "_________________________________________________________________\n",
      "dropout_6 (Dropout)          (None, 128)               0         \n",
      "_________________________________________________________________\n",
      "output (Dense)               (None, 10)                1290      \n",
      "=================================================================\n",
      "Total params: 1,738,890\n",
      "Trainable params: 1,738,890\n",
      "Non-trainable params: 0\n",
      "_________________________________________________________________\n",
      "Train on 50000 samples, validate on 10000 samples\n",
      "Epoch 1/50\n",
      "50000/50000 [==============================] - 4s 87us/step - loss: 2.0563 - accuracy: 0.2402 - val_loss: 1.8397 - val_accuracy: 0.3394\n",
      "Epoch 2/50\n",
      "50000/50000 [==============================] - 4s 76us/step - loss: 1.8836 - accuracy: 0.3165 - val_loss: 1.7610 - val_accuracy: 0.3633\n",
      "Epoch 3/50\n",
      "50000/50000 [==============================] - 4s 82us/step - loss: 1.8201 - accuracy: 0.3436 - val_loss: 1.7292 - val_accuracy: 0.3847\n",
      "Epoch 4/50\n",
      "50000/50000 [==============================] - 9s 171us/step - loss: 1.7997 - accuracy: 0.3458 - val_loss: 1.6989 - val_accuracy: 0.3909\n",
      "Epoch 5/50\n",
      "50000/50000 [==============================] - 9s 171us/step - loss: 1.7628 - accuracy: 0.3639 - val_loss: 1.6666 - val_accuracy: 0.3961\n",
      "Epoch 6/50\n",
      "50000/50000 [==============================] - 9s 177us/step - loss: 1.7322 - accuracy: 0.3751 - val_loss: 1.6484 - val_accuracy: 0.4201\n",
      "Epoch 7/50\n",
      "50000/50000 [==============================] - 9s 173us/step - loss: 1.7133 - accuracy: 0.3790 - val_loss: 1.6289 - val_accuracy: 0.4180\n",
      "Epoch 8/50\n",
      "50000/50000 [==============================] - 9s 173us/step - loss: 1.7043 - accuracy: 0.3852 - val_loss: 1.5892 - val_accuracy: 0.4350\n",
      "Epoch 9/50\n",
      "50000/50000 [==============================] - 9s 172us/step - loss: 1.6805 - accuracy: 0.3888 - val_loss: 1.5946 - val_accuracy: 0.4349\n",
      "Epoch 10/50\n",
      "50000/50000 [==============================] - 9s 178us/step - loss: 1.6697 - accuracy: 0.3952 - val_loss: 1.5816 - val_accuracy: 0.4395\n",
      "Epoch 11/50\n",
      "50000/50000 [==============================] - 9s 172us/step - loss: 1.6600 - accuracy: 0.3991 - val_loss: 1.5713 - val_accuracy: 0.4454\n",
      "Epoch 12/50\n",
      "50000/50000 [==============================] - 9s 180us/step - loss: 1.6473 - accuracy: 0.4055 - val_loss: 1.5835 - val_accuracy: 0.4380\n",
      "Epoch 13/50\n",
      "50000/50000 [==============================] - 9s 178us/step - loss: 1.6455 - accuracy: 0.4054 - val_loss: 1.5920 - val_accuracy: 0.4431\n",
      "Epoch 14/50\n",
      "50000/50000 [==============================] - 8s 170us/step - loss: 1.6418 - accuracy: 0.4089 - val_loss: 1.5525 - val_accuracy: 0.4490\n",
      "Epoch 15/50\n",
      "50000/50000 [==============================] - 9s 172us/step - loss: 1.6215 - accuracy: 0.4141 - val_loss: 1.5620 - val_accuracy: 0.4474\n",
      "Epoch 16/50\n",
      "50000/50000 [==============================] - 9s 172us/step - loss: 1.6138 - accuracy: 0.4173 - val_loss: 1.5631 - val_accuracy: 0.4489\n",
      "Epoch 17/50\n",
      "50000/50000 [==============================] - 8s 167us/step - loss: 1.6042 - accuracy: 0.4209 - val_loss: 1.5507 - val_accuracy: 0.4514\n",
      "Epoch 18/50\n",
      "50000/50000 [==============================] - 8s 169us/step - loss: 1.6139 - accuracy: 0.4182 - val_loss: 1.5559 - val_accuracy: 0.4460\n",
      "Epoch 19/50\n",
      "50000/50000 [==============================] - 8s 168us/step - loss: 1.5961 - accuracy: 0.4249 - val_loss: 1.5562 - val_accuracy: 0.4437\n",
      "Epoch 20/50\n",
      "50000/50000 [==============================] - 8s 168us/step - loss: 1.5922 - accuracy: 0.4253 - val_loss: 1.5485 - val_accuracy: 0.4485\n",
      "Epoch 21/50\n",
      "50000/50000 [==============================] - 8s 168us/step - loss: 1.5891 - accuracy: 0.4258 - val_loss: 1.5186 - val_accuracy: 0.4670\n",
      "Epoch 22/50\n",
      "50000/50000 [==============================] - 8s 168us/step - loss: 1.5822 - accuracy: 0.4280 - val_loss: 1.5008 - val_accuracy: 0.4684\n",
      "Epoch 23/50\n",
      "50000/50000 [==============================] - 8s 168us/step - loss: 1.5792 - accuracy: 0.4302 - val_loss: 1.5023 - val_accuracy: 0.4624\n",
      "Epoch 24/50\n",
      "50000/50000 [==============================] - 8s 169us/step - loss: 1.5741 - accuracy: 0.4312 - val_loss: 1.5168 - val_accuracy: 0.4684\n",
      "Epoch 25/50\n",
      "50000/50000 [==============================] - 8s 168us/step - loss: 1.5754 - accuracy: 0.4357 - val_loss: 1.5245 - val_accuracy: 0.4530\n",
      "Epoch 26/50\n",
      "50000/50000 [==============================] - 8s 168us/step - loss: 1.5648 - accuracy: 0.4355 - val_loss: 1.5121 - val_accuracy: 0.4568\n",
      "Epoch 27/50\n",
      "50000/50000 [==============================] - 8s 169us/step - loss: 1.5641 - accuracy: 0.4374 - val_loss: 1.5234 - val_accuracy: 0.4586\n",
      "Epoch 28/50\n",
      "50000/50000 [==============================] - 8s 168us/step - loss: 1.5584 - accuracy: 0.4391 - val_loss: 1.4983 - val_accuracy: 0.4717\n",
      "Epoch 29/50\n",
      "50000/50000 [==============================] - 8s 168us/step - loss: 1.5511 - accuracy: 0.4402 - val_loss: 1.5141 - val_accuracy: 0.4662\n",
      "Epoch 30/50\n",
      "50000/50000 [==============================] - 8s 168us/step - loss: 1.5524 - accuracy: 0.4428 - val_loss: 1.4946 - val_accuracy: 0.4695\n",
      "Epoch 31/50\n",
      "50000/50000 [==============================] - 8s 168us/step - loss: 1.5454 - accuracy: 0.4424 - val_loss: 1.4968 - val_accuracy: 0.4635\n",
      "Epoch 32/50\n",
      "50000/50000 [==============================] - 8s 167us/step - loss: 1.5404 - accuracy: 0.4454 - val_loss: 1.5028 - val_accuracy: 0.4682\n",
      "Epoch 33/50\n",
      "50000/50000 [==============================] - 8s 168us/step - loss: 1.5373 - accuracy: 0.4461 - val_loss: 1.4770 - val_accuracy: 0.4736\n",
      "Epoch 34/50\n",
      "50000/50000 [==============================] - 8s 168us/step - loss: 1.5289 - accuracy: 0.4459 - val_loss: 1.5001 - val_accuracy: 0.4675\n",
      "Epoch 35/50\n",
      "50000/50000 [==============================] - 8s 169us/step - loss: 1.5253 - accuracy: 0.4476 - val_loss: 1.4698 - val_accuracy: 0.4768\n",
      "Epoch 36/50\n",
      "50000/50000 [==============================] - 8s 169us/step - loss: 1.5258 - accuracy: 0.4518 - val_loss: 1.4765 - val_accuracy: 0.4705\n",
      "Epoch 37/50\n",
      "50000/50000 [==============================] - 8s 168us/step - loss: 1.5182 - accuracy: 0.4540 - val_loss: 1.4606 - val_accuracy: 0.4840\n",
      "Epoch 38/50\n",
      "50000/50000 [==============================] - 9s 170us/step - loss: 1.5193 - accuracy: 0.4502 - val_loss: 1.4776 - val_accuracy: 0.4768\n",
      "Epoch 39/50\n",
      "50000/50000 [==============================] - 9s 171us/step - loss: 1.5177 - accuracy: 0.4517 - val_loss: 1.4761 - val_accuracy: 0.4764\n",
      "Epoch 40/50\n",
      "50000/50000 [==============================] - 8s 167us/step - loss: 1.5184 - accuracy: 0.4519 - val_loss: 1.4830 - val_accuracy: 0.4752\n",
      "Epoch 41/50\n",
      "50000/50000 [==============================] - 8s 167us/step - loss: 1.5085 - accuracy: 0.4567 - val_loss: 1.4789 - val_accuracy: 0.4699\n",
      "Epoch 42/50\n",
      "50000/50000 [==============================] - 8s 167us/step - loss: 1.5065 - accuracy: 0.4586 - val_loss: 1.4719 - val_accuracy: 0.4764\n",
      "Epoch 43/50\n",
      "50000/50000 [==============================] - 8s 169us/step - loss: 1.5153 - accuracy: 0.4528 - val_loss: 1.4619 - val_accuracy: 0.4697\n",
      "Epoch 44/50\n",
      "50000/50000 [==============================] - 8s 168us/step - loss: 1.5065 - accuracy: 0.4585 - val_loss: 1.4419 - val_accuracy: 0.4936\n",
      "Epoch 45/50\n",
      "50000/50000 [==============================] - 8s 168us/step - loss: 1.5093 - accuracy: 0.4602 - val_loss: 1.4694 - val_accuracy: 0.4783\n",
      "Epoch 46/50\n"
     ]
    },
    {
     "name": "stdout",
     "output_type": "stream",
     "text": [
      "50000/50000 [==============================] - 8s 167us/step - loss: 1.4973 - accuracy: 0.4612 - val_loss: 1.4685 - val_accuracy: 0.4804\n",
      "Epoch 47/50\n",
      "50000/50000 [==============================] - 8s 169us/step - loss: 1.5031 - accuracy: 0.4580 - val_loss: 1.4723 - val_accuracy: 0.4768\n",
      "Epoch 48/50\n",
      "50000/50000 [==============================] - 8s 169us/step - loss: 1.4989 - accuracy: 0.4617 - val_loss: 1.4832 - val_accuracy: 0.4777\n",
      "Epoch 49/50\n",
      "50000/50000 [==============================] - 8s 167us/step - loss: 1.4944 - accuracy: 0.4611 - val_loss: 1.4418 - val_accuracy: 0.4858\n",
      "Epoch 50/50\n",
      "50000/50000 [==============================] - 8s 167us/step - loss: 1.4855 - accuracy: 0.4663 - val_loss: 1.4406 - val_accuracy: 0.4942\n"
     ]
    }
   ],
   "source": [
    "results = {}\n",
    "\"\"\"Code Here\n",
    "撰寫你的訓練流程並將結果用 dictionary 紀錄\n",
    "\"\"\"\n",
    "model = build_mlp(input_shape=x_train.shape[1:], drp_ratio=Dropout_EXP)\n",
    "model.summary()\n",
    "optimizer = keras.optimizers.Adam(lr=LEARNING_RATE)\n",
    "model.compile(loss=\"categorical_crossentropy\", metrics=[\"accuracy\"], optimizer=optimizer)\n",
    "\n",
    "model.fit(x_train, y_train, \n",
    "          epochs=EPOCHS, \n",
    "          batch_size=BATCH_SIZE, \n",
    "          validation_data=(x_test, y_test), \n",
    "          shuffle=True)\n",
    "\n",
    "# Collect results\n",
    "train_loss = model.history.history[\"loss\"]\n",
    "valid_loss = model.history.history[\"val_loss\"]\n",
    "train_acc = model.history.history[\"accuracy\"]\n",
    "valid_acc = model.history.history[\"val_accuracy\"]"
   ]
  },
  {
   "cell_type": "code",
   "execution_count": 15,
   "metadata": {},
   "outputs": [
    {
     "data": {
      "image/png": "[encoded data removed]",
      "text/plain": [
       "<Figure size 432x288 with 1 Axes>"
      ]
     },
     "metadata": {
      "needs_background": "light"
     },
     "output_type": "display_data"
    },
    {
     "data": {
      "image/png": "[encoded data removed]",
      "text/plain": [
       "<Figure size 432x288 with 1 Axes>"
      ]
     },
     "metadata": {
      "needs_background": "light"
     },
     "output_type": "display_data"
    }
   ],
   "source": [
    "import matplotlib.pyplot as plt\n",
    "%matplotlib inline\n",
    "\"\"\"Code Here\n",
    "將結果繪出\n",
    "\"\"\"\n",
    "import matplotlib.pyplot as plt\n",
    "%matplotlib inline\n",
    "\n",
    "plt.plot(range(len(train_loss)), train_loss, label=\"train loss\")\n",
    "plt.plot(range(len(valid_loss)), valid_loss, label=\"valid loss\")\n",
    "plt.legend()\n",
    "plt.title(\"Loss\")\n",
    "plt.show()\n",
    "\n",
    "plt.plot(range(len(train_acc)), train_acc, label=\"train accuracy\")\n",
    "plt.plot(range(len(valid_acc)), valid_acc, label=\"valid accuracy\")\n",
    "plt.legend()\n",
    "plt.title(\"Accuracy\")\n",
    "plt.show()"
   ]
  }
 ],
 "metadata": {
  "kernelspec": {
   "display_name": "Python 3",
   "language": "python",
   "name": "python3"
  },
  "language_info": {
   "codemirror_mode": {
    "name": "ipython",
    "version": 3
   },
   "file_extension": ".py",
   "mimetype": "text/x-python",
   "name": "python",
   "nbconvert_exporter": "python",
   "pygments_lexer": "ipython3",
   "version": "3.7.3"
  }
 },
 "nbformat": 4,
 "nbformat_minor": 2
}
