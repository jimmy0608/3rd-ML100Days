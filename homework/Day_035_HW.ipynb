{
 "cells": [
  {
   "cell_type": "markdown",
   "metadata": {},
   "source": [
    "## 練習時間\n",
    "相信大家對回歸問題及分類問題都有初步的了解。今天的作業希望大家搜尋有關 multi-label 的案例問題。下圖是電影 \"奇異博士\" 的分類。可以看到同時有 \"Action\", \"Adventure\", \"Fantasy\" 的類別存在，代表這是個多標籤的問題。 "
   ]
  },
  {
   "cell_type": "markdown",
   "metadata": {},
   "source": [
    "![image](https://cdn-images-1.medium.com/max/1000/1*r0gYXMSQf5VhdMyl2bRDyg.png)"
   ]
  },
  {
   "cell_type": "markdown",
   "metadata": {},
   "source": [
    "## 請搜尋目標為多標籤問題 (Multi-label) 的機器學習案例，了解其資料來源、目標以及評估指標為何\n",
    "## Hint: 服飾"
   ]
  },
  {
   "cell_type": "code",
   "execution_count": null,
   "metadata": {},
   "outputs": [],
   "source": [
    "###手把手教你用Keras進行多標籤分類\n",
    "##https://kknews.cc/zh-tw/code/ygpkm4j.html\n",
    "\n",
    "##資料來源  自行產生DATASET (圖型) \n",
    "#### 我們的數據集由2167張圖片組成，它們來自6個不同的種類，包括：\n",
    "\n",
    "#### 黑色牛仔褲（344張圖片）\n",
    "#### 藍色裙子（386張圖片）\n",
    "#### 藍色牛仔褲（356張圖片）\n",
    "#### 藍色襯衫（369張圖片）\n",
    "#### 紅色裙子（380張圖片）\n",
    "#### 紅色襯衫（332張圖片）\n",
    "\n",
    "##目標 使用Keras建立 CNN MODEL (預測模型)來用戶可以上傳一張他們喜歡的服飾的圖片，返回類別及顏色\n",
    "#### 你需要你想要預測的每種類別組合的訓練數據。\n",
    "####結論：正像是一個神經網絡沒法預測出一個它未曾訓練過的類，你的神經網絡沒法預測出它未曾見過的多類標籤組合。這個特性是由於神經網絡內部神經元的激活函數。\n",
    "##如果你的神經網絡同時經過：（1）黑色褲子（2）紅色襯衫的訓練，現在你希望預測「紅色褲子」（你的數據集中沒有「紅色褲子」的圖片），用於檢測「紅色」和「褲子」的神經元將會發生變化，但由於神經網絡在之前從沒見過這些數據/激活的組合，一旦他們到達了全連接層，你的輸出預測就很有可能出錯了（例如你可能會見到「紅色」或者是「褲子」，但不太可能會同時見到這兩個）\n",
    "\n",
    "##評估指標 \n",
    "#### 建立多標籤分類數據集 (SmallerVGGNet)\n",
    "#### 應用Keras執行多標籤分類是直觀的，它包含兩個主要的步驟：\n",
    "#### 在神經網絡的最末端將softmax激活函數改為sigmoid激活函數。\n",
    "#### 將損失函數交叉熵 Entropy Error Function 由分類交叉熵 (categorical_cross entropy) 替換為二元交叉熵 (binary_cross entrop )\n",
    "#### https://www.itread01.com/content/1543994346.html\n"
   ]
  }
 ],
 "metadata": {
  "kernelspec": {
   "display_name": "Python 3",
   "language": "python",
   "name": "python3"
  },
  "language_info": {
   "codemirror_mode": {
    "name": "ipython",
    "version": 3
   },
   "file_extension": ".py",
   "mimetype": "text/x-python",
   "name": "python",
   "nbconvert_exporter": "python",
   "pygments_lexer": "ipython3",
   "version": "3.7.3"
  }
 },
 "nbformat": 4,
 "nbformat_minor": 2
}
