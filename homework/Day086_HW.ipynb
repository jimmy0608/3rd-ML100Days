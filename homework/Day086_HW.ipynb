{
 "cells": [
  {
   "cell_type": "markdown",
   "metadata": {},
   "source": [
    "## Work\n",
    "1. 試比較 save_best_only 與否的差異\n",
    "2. 請僅存入將 save_weights_only 設定為 True, 並嘗試 reset ipynb 並將模型與權重重新建回並預測 x_test"
   ]
  },
  {
   "cell_type": "code",
   "execution_count": 1,
   "metadata": {},
   "outputs": [
    {
     "name": "stderr",
     "output_type": "stream",
     "text": [
      "Using TensorFlow backend.\n"
     ]
    }
   ],
   "source": [
    "import os\n",
    "import keras\n",
    "\n",
    "# Disable GPU\n",
    "os.environ[\"CUDA_VISIBLE_DEVICES\"] = \"0\""
   ]
  },
  {
   "cell_type": "code",
   "execution_count": 2,
   "metadata": {},
   "outputs": [],
   "source": [
    "train, test = keras.datasets.cifar10.load_data()"
   ]
  },
  {
   "cell_type": "code",
   "execution_count": 3,
   "metadata": {},
   "outputs": [],
   "source": [
    "## 資料前處理\n",
    "def preproc_x(x, flatten=True):\n",
    "    x = x / 255.\n",
    "    if flatten:\n",
    "        x = x.reshape((len(x), -1))\n",
    "    return x\n",
    "\n",
    "def preproc_y(y, num_classes=10):\n",
    "    if y.shape[-1] == 1:\n",
    "        y = keras.utils.to_categorical(y, num_classes)\n",
    "    return y    "
   ]
  },
  {
   "cell_type": "code",
   "execution_count": 4,
   "metadata": {},
   "outputs": [],
   "source": [
    "x_train, y_train = train\n",
    "x_test, y_test = test\n",
    "\n",
    "# Preproc the inputs\n",
    "x_train = preproc_x(x_train)\n",
    "x_test = preproc_x(x_test)\n",
    "\n",
    "# Preprc the outputs\n",
    "y_train = preproc_y(y_train)\n",
    "y_test = preproc_y(y_test)"
   ]
  },
  {
   "cell_type": "code",
   "execution_count": 5,
   "metadata": {},
   "outputs": [],
   "source": [
    "from keras.layers import BatchNormalization\n",
    "def build_mlp(input_shape, output_units=10, num_neurons=[512, 256, 128]):\n",
    "    \"\"\"Code Here\n",
    "    建立你的神經網路\n",
    "    \"\"\"\n",
    "    input_layer = keras.layers.Input(input_shape)\n",
    "    \n",
    "    for i, n_units in enumerate(num_neurons):\n",
    "        if i == 0:\n",
    "            x = keras.layers.Dense(units=n_units, \n",
    "                                   activation=\"relu\", \n",
    "                                   name=\"hidden_layer\"+str(i+1))(input_layer)\n",
    "            x = BatchNormalization()(x)\n",
    "        else:\n",
    "            x = keras.layers.Dense(units=n_units, \n",
    "                                   activation=\"relu\", \n",
    "                                   name=\"hidden_layer\"+str(i+1))(x)\n",
    "            x = BatchNormalization()(x)\n",
    "    \n",
    "    out = keras.layers.Dense(units=output_units, activation=\"softmax\", name=\"output\")(x)\n",
    "    \n",
    "    model = keras.models.Model(inputs=[input_layer], outputs=[out])\n",
    "    \n",
    "    return model"
   ]
  },
  {
   "cell_type": "code",
   "execution_count": 6,
   "metadata": {},
   "outputs": [],
   "source": [
    "\"\"\"Code Here\n",
    "設定超參數\n",
    "\"\"\"\n",
    "LEARNING_RATE = 1e-3\n",
    "EPOCHS = 50\n",
    "BATCH_SIZE = 1024\n",
    "MOMENTUM = 0.95"
   ]
  },
  {
   "cell_type": "code",
   "execution_count": 7,
   "metadata": {},
   "outputs": [],
   "source": [
    "# 載入 Callbacks\n",
    "\"\"\"Code Here\n",
    "設定 callbacks: model checkpoint\n",
    "\"\"\"\n",
    "from keras.callbacks import ModelCheckpoint\n",
    "\n",
    "model_ckpt = ModelCheckpoint(filepath=\"./tmp_D86.h5\", \n",
    "                             monitor=\"val_loss\", \n",
    "                             save_best_only=True)\n"
   ]
  },
  {
   "cell_type": "code",
   "execution_count": 8,
   "metadata": {},
   "outputs": [
    {
     "name": "stdout",
     "output_type": "stream",
     "text": [
      "Model: \"model_1\"\n",
      "_________________________________________________________________\n",
      "Layer (type)                 Output Shape              Param #   \n",
      "=================================================================\n",
      "input_1 (InputLayer)         (None, 3072)              0         \n",
      "_________________________________________________________________\n",
      "hidden_layer1 (Dense)        (None, 512)               1573376   \n",
      "_________________________________________________________________\n",
      "batch_normalization_1 (Batch (None, 512)               2048      \n",
      "_________________________________________________________________\n",
      "hidden_layer2 (Dense)        (None, 256)               131328    \n",
      "_________________________________________________________________\n",
      "batch_normalization_2 (Batch (None, 256)               1024      \n",
      "_________________________________________________________________\n",
      "hidden_layer3 (Dense)        (None, 128)               32896     \n",
      "_________________________________________________________________\n",
      "batch_normalization_3 (Batch (None, 128)               512       \n",
      "_________________________________________________________________\n",
      "output (Dense)               (None, 10)                1290      \n",
      "=================================================================\n",
      "Total params: 1,742,474\n",
      "Trainable params: 1,740,682\n",
      "Non-trainable params: 1,792\n",
      "_________________________________________________________________\n",
      "Train on 50000 samples, validate on 10000 samples\n",
      "Epoch 1/50\n",
      "50000/50000 [==============================] - 7s 148us/step - loss: 2.1979 - accuracy: 0.2698 - val_loss: 2.1447 - val_accuracy: 0.1893\n",
      "Epoch 2/50\n",
      "50000/50000 [==============================] - 4s 83us/step - loss: 1.7372 - accuracy: 0.3916 - val_loss: 1.9835 - val_accuracy: 0.2900\n",
      "Epoch 3/50\n",
      "50000/50000 [==============================] - 4s 80us/step - loss: 1.6178 - accuracy: 0.4342 - val_loss: 1.8218 - val_accuracy: 0.3752\n",
      "Epoch 4/50\n",
      "50000/50000 [==============================] - 4s 84us/step - loss: 1.5497 - accuracy: 0.4583 - val_loss: 1.7296 - val_accuracy: 0.4078\n",
      "Epoch 5/50\n",
      "50000/50000 [==============================] - 4s 76us/step - loss: 1.4955 - accuracy: 0.4770 - val_loss: 1.6531 - val_accuracy: 0.4289\n",
      "Epoch 6/50\n",
      "50000/50000 [==============================] - 4s 81us/step - loss: 1.4503 - accuracy: 0.4924 - val_loss: 1.6024 - val_accuracy: 0.4372\n",
      "Epoch 7/50\n",
      "50000/50000 [==============================] - 4s 73us/step - loss: 1.4106 - accuracy: 0.5070 - val_loss: 1.5630 - val_accuracy: 0.4468\n",
      "Epoch 8/50\n",
      "50000/50000 [==============================] - 4s 82us/step - loss: 1.3754 - accuracy: 0.5178 - val_loss: 1.5308 - val_accuracy: 0.4610\n",
      "Epoch 9/50\n",
      "50000/50000 [==============================] - 4s 79us/step - loss: 1.3443 - accuracy: 0.5319 - val_loss: 1.5176 - val_accuracy: 0.4622\n",
      "Epoch 10/50\n",
      "50000/50000 [==============================] - 4s 78us/step - loss: 1.3118 - accuracy: 0.5436 - val_loss: 1.5052 - val_accuracy: 0.4689\n",
      "Epoch 11/50\n",
      "50000/50000 [==============================] - 4s 78us/step - loss: 1.2841 - accuracy: 0.5523 - val_loss: 1.4986 - val_accuracy: 0.4700\n",
      "Epoch 12/50\n",
      "50000/50000 [==============================] - 4s 79us/step - loss: 1.2560 - accuracy: 0.5636 - val_loss: 1.4797 - val_accuracy: 0.4789\n",
      "Epoch 13/50\n",
      "50000/50000 [==============================] - 4s 76us/step - loss: 1.2302 - accuracy: 0.5742 - val_loss: 1.4737 - val_accuracy: 0.4819\n",
      "Epoch 14/50\n",
      "50000/50000 [==============================] - 4s 80us/step - loss: 1.2051 - accuracy: 0.5805 - val_loss: 1.4739 - val_accuracy: 0.4795\n",
      "Epoch 15/50\n",
      "50000/50000 [==============================] - 4s 74us/step - loss: 1.1805 - accuracy: 0.5918 - val_loss: 1.4740 - val_accuracy: 0.4845\n",
      "Epoch 16/50\n",
      "50000/50000 [==============================] - 4s 75us/step - loss: 1.1561 - accuracy: 0.6002 - val_loss: 1.4801 - val_accuracy: 0.4805\n",
      "Epoch 17/50\n",
      "50000/50000 [==============================] - 4s 75us/step - loss: 1.1329 - accuracy: 0.6099 - val_loss: 1.4659 - val_accuracy: 0.4909\n",
      "Epoch 18/50\n",
      "50000/50000 [==============================] - 4s 74us/step - loss: 1.1095 - accuracy: 0.6186 - val_loss: 1.4580 - val_accuracy: 0.4927\n",
      "Epoch 19/50\n",
      "50000/50000 [==============================] - 4s 76us/step - loss: 1.0878 - accuracy: 0.6274 - val_loss: 1.4681 - val_accuracy: 0.4898\n",
      "Epoch 20/50\n",
      "50000/50000 [==============================] - 4s 77us/step - loss: 1.0634 - accuracy: 0.6358 - val_loss: 1.4607 - val_accuracy: 0.4957\n",
      "Epoch 21/50\n",
      "50000/50000 [==============================] - 4s 77us/step - loss: 1.0430 - accuracy: 0.6439 - val_loss: 1.4626 - val_accuracy: 0.4919\n",
      "Epoch 22/50\n",
      "50000/50000 [==============================] - 4s 74us/step - loss: 1.0199 - accuracy: 0.6544 - val_loss: 1.4650 - val_accuracy: 0.4984\n",
      "Epoch 23/50\n",
      "50000/50000 [==============================] - 4s 77us/step - loss: 0.9981 - accuracy: 0.6628 - val_loss: 1.4733 - val_accuracy: 0.4995\n",
      "Epoch 24/50\n",
      "50000/50000 [==============================] - 4s 77us/step - loss: 0.9788 - accuracy: 0.6697 - val_loss: 1.4775 - val_accuracy: 0.4990\n",
      "Epoch 25/50\n",
      "50000/50000 [==============================] - 4s 78us/step - loss: 0.9563 - accuracy: 0.6801 - val_loss: 1.4746 - val_accuracy: 0.4993\n",
      "Epoch 26/50\n",
      "50000/50000 [==============================] - 4s 76us/step - loss: 0.9345 - accuracy: 0.6870 - val_loss: 1.4898 - val_accuracy: 0.4894\n",
      "Epoch 27/50\n",
      "50000/50000 [==============================] - 4s 75us/step - loss: 0.9143 - accuracy: 0.6940 - val_loss: 1.4905 - val_accuracy: 0.4927\n",
      "Epoch 28/50\n",
      "50000/50000 [==============================] - 4s 75us/step - loss: 0.8920 - accuracy: 0.7040 - val_loss: 1.4865 - val_accuracy: 0.4936\n",
      "Epoch 29/50\n",
      "50000/50000 [==============================] - 4s 76us/step - loss: 0.8722 - accuracy: 0.7105 - val_loss: 1.4929 - val_accuracy: 0.4947\n",
      "Epoch 30/50\n",
      "50000/50000 [==============================] - 4s 76us/step - loss: 0.8552 - accuracy: 0.7184 - val_loss: 1.5044 - val_accuracy: 0.4862\n",
      "Epoch 31/50\n",
      "50000/50000 [==============================] - 4s 78us/step - loss: 0.8323 - accuracy: 0.7275 - val_loss: 1.5022 - val_accuracy: 0.4942\n",
      "Epoch 32/50\n",
      "50000/50000 [==============================] - 4s 75us/step - loss: 0.8120 - accuracy: 0.7351 - val_loss: 1.5181 - val_accuracy: 0.4879\n",
      "Epoch 33/50\n",
      "50000/50000 [==============================] - 4s 75us/step - loss: 0.7946 - accuracy: 0.7422 - val_loss: 1.5208 - val_accuracy: 0.4953\n",
      "Epoch 34/50\n",
      "50000/50000 [==============================] - 4s 75us/step - loss: 0.7737 - accuracy: 0.7513 - val_loss: 1.5330 - val_accuracy: 0.4884\n",
      "Epoch 35/50\n",
      "50000/50000 [==============================] - 4s 77us/step - loss: 0.7535 - accuracy: 0.7583 - val_loss: 1.5355 - val_accuracy: 0.4914\n",
      "Epoch 36/50\n",
      "50000/50000 [==============================] - 4s 79us/step - loss: 0.7352 - accuracy: 0.7662 - val_loss: 1.5515 - val_accuracy: 0.4907\n",
      "Epoch 37/50\n",
      "50000/50000 [==============================] - 5s 92us/step - loss: 0.7160 - accuracy: 0.7744 - val_loss: 1.5578 - val_accuracy: 0.4967\n",
      "Epoch 38/50\n",
      "50000/50000 [==============================] - 4s 80us/step - loss: 0.6960 - accuracy: 0.7795 - val_loss: 1.5727 - val_accuracy: 0.4921\n",
      "Epoch 39/50\n",
      "50000/50000 [==============================] - 4s 78us/step - loss: 0.6777 - accuracy: 0.7890 - val_loss: 1.5794 - val_accuracy: 0.4881\n",
      "Epoch 40/50\n",
      "50000/50000 [==============================] - 4s 90us/step - loss: 0.6585 - accuracy: 0.7977 - val_loss: 1.5915 - val_accuracy: 0.4941\n",
      "Epoch 41/50\n",
      "50000/50000 [==============================] - 4s 76us/step - loss: 0.6401 - accuracy: 0.8041 - val_loss: 1.5993 - val_accuracy: 0.4965\n",
      "Epoch 42/50\n",
      "50000/50000 [==============================] - 4s 77us/step - loss: 0.6217 - accuracy: 0.8111 - val_loss: 1.6169 - val_accuracy: 0.4869\n",
      "Epoch 43/50\n",
      "50000/50000 [==============================] - 4s 81us/step - loss: 0.6009 - accuracy: 0.8203 - val_loss: 1.6241 - val_accuracy: 0.4875\n",
      "Epoch 44/50\n",
      "50000/50000 [==============================] - 4s 79us/step - loss: 0.5836 - accuracy: 0.8270 - val_loss: 1.6700 - val_accuracy: 0.4746\n",
      "Epoch 45/50\n",
      "50000/50000 [==============================] - 4s 76us/step - loss: 0.5663 - accuracy: 0.8336 - val_loss: 1.6273 - val_accuracy: 0.4930\n",
      "Epoch 46/50\n"
     ]
    },
    {
     "name": "stdout",
     "output_type": "stream",
     "text": [
      "50000/50000 [==============================] - 4s 78us/step - loss: 0.5493 - accuracy: 0.8411 - val_loss: 1.6700 - val_accuracy: 0.4834\n",
      "Epoch 47/50\n",
      "50000/50000 [==============================] - 4s 79us/step - loss: 0.5329 - accuracy: 0.8473 - val_loss: 1.6636 - val_accuracy: 0.4924\n",
      "Epoch 48/50\n",
      "50000/50000 [==============================] - 4s 76us/step - loss: 0.5143 - accuracy: 0.8544 - val_loss: 1.7048 - val_accuracy: 0.4820\n",
      "Epoch 49/50\n",
      "50000/50000 [==============================] - 4s 76us/step - loss: 0.4980 - accuracy: 0.8593 - val_loss: 1.6807 - val_accuracy: 0.4883\n",
      "Epoch 50/50\n",
      "50000/50000 [==============================] - 4s 74us/step - loss: 0.4814 - accuracy: 0.8667 - val_loss: 1.7146 - val_accuracy: 0.4851\n"
     ]
    }
   ],
   "source": [
    "results = {}\n",
    "\"\"\"Code Here\n",
    "撰寫你的訓練流程並將結果用 dictionary 紀錄\n",
    "\"\"\"\n",
    "model = build_mlp(input_shape=x_train.shape[1:])\n",
    "model.summary()\n",
    "optimizer = keras.optimizers.SGD(lr=LEARNING_RATE, nesterov=True, momentum=MOMENTUM)\n",
    "model.compile(loss=\"categorical_crossentropy\", metrics=[\"accuracy\"], optimizer=optimizer)\n",
    "\n",
    "model.fit(x_train, y_train, \n",
    "          epochs=EPOCHS, \n",
    "          batch_size=BATCH_SIZE, \n",
    "          validation_data=(x_test, y_test), \n",
    "          shuffle=True,\n",
    "          callbacks=[model_ckpt]\n",
    "         )\n",
    "model.save(\"final_model_D86.h5\")\n",
    "model.save_weights(\"model_weights_D86.h5\")\n",
    "# Collect results\n",
    "train_loss = model.history.history[\"loss\"]\n",
    "valid_loss = model.history.history[\"val_loss\"]\n",
    "train_acc = model.history.history[\"accuracy\"]\n",
    "valid_acc = model.history.history[\"val_accuracy\"]\n",
    "\n",
    "pred_final = model.predict(x_test)\n",
    "# Load back\n",
    "model = keras.models.load_model(\"./tmp_D86.h5\")\n",
    "pred_loadback = model.predict(x_test)"
   ]
  },
  {
   "cell_type": "code",
   "execution_count": 9,
   "metadata": {},
   "outputs": [
    {
     "name": "stdout",
     "output_type": "stream",
     "text": [
      "Accuracy of final weights: 0.485\n",
      "Accuracy of best weights: 0.493\n"
     ]
    }
   ],
   "source": [
    "from sklearn.metrics import accuracy_score\n",
    "\n",
    "final_model_acc = accuracy_score(y_true=y_test.argmax(axis=-1), y_pred=pred_final.argmax(axis=-1))\n",
    "loadback_acc = accuracy_score(y_true=y_test.argmax(axis=-1), y_pred=pred_loadback.argmax(axis=-1))\n",
    "\n",
    "print(\"Accuracy of final weights: %.3f\" % final_model_acc)\n",
    "print(\"Accuracy of best weights: %.3f\" % loadback_acc)"
   ]
  },
  {
   "cell_type": "code",
   "execution_count": 14,
   "metadata": {},
   "outputs": [
    {
     "name": "stdout",
     "output_type": "stream",
     "text": [
      "Accuracy of best weights: 0.103\n",
      "Accuracy of best weights: 0.490\n",
      "10000/10000 [==============================] - 2s 228us/step\n"
     ]
    }
   ],
   "source": [
    "new_model = build_mlp(input_shape=x_train.shape[1:])\n",
    "new_model_pred = new_model.predict(x_test)\n",
    "new_model_acc = accuracy_score(y_true=y_test.argmax(axis=-1), y_pred=new_model_pred.argmax(axis=-1))\n",
    "print(\"Accuracy of best weights: %.3f\" % new_model_acc)\n",
    "\n",
    "new_model.load_weights(\"./model_weights.h5\")\n",
    "new_model_pred = new_model.predict(x_test)\n",
    "new_model_loadback_acc = accuracy_score(y_true=y_test.argmax(axis=-1), y_pred=new_model_pred.argmax(axis=-1))\n",
    "print(\"Accuracy of best weights: %.3f\" % new_model_loadback_acc)\n",
    "\n",
    "# Load back\n",
    "model = keras.models.load_model(\"./tmp_D86.h5\")\n",
    "loss_loadback, acc_loadback = model.evaluate(x_test, y_test)"
   ]
  },
  {
   "cell_type": "code",
   "execution_count": 16,
   "metadata": {
    "scrolled": true
   },
   "outputs": [
    {
     "data": {
      "image/png": "[encoded data removed]",
      "text/plain": [
       "<Figure size 432x288 with 1 Axes>"
      ]
     },
     "metadata": {
      "needs_background": "light"
     },
     "output_type": "display_data"
    },
    {
     "data": {
      "image/png": "[encoded data removed]",
      "text/plain": [
       "<Figure size 432x288 with 1 Axes>"
      ]
     },
     "metadata": {
      "needs_background": "light"
     },
     "output_type": "display_data"
    }
   ],
   "source": [
    "import matplotlib.pyplot as plt\n",
    "%matplotlib inline\n",
    "\"\"\"Code Here\n",
    "將結果繪出\n",
    "\"\"\"\n",
    "\n",
    "plt.plot(range(len(train_loss)), train_loss, label=\"train loss\")\n",
    "plt.plot(range(len(valid_loss)), valid_loss, label=\"valid loss\")\n",
    "plt.hlines(y=loss_loadback, xmin=0, xmax=len(train_loss), colors='r', linestyles='--')\n",
    "plt.legend()\n",
    "plt.title(\"Loss\")\n",
    "plt.show()\n",
    "\n",
    "plt.plot(range(len(train_acc)), train_acc, label=\"train accuracy\")\n",
    "plt.plot(range(len(valid_acc)), valid_acc, label=\"valid accuracy\")\n",
    "plt.hlines(y=acc_loadback, xmin=0, xmax=len(train_loss), colors='r', linestyles='--')\n",
    "plt.legend()\n",
    "plt.title(\"Accuracy\")\n",
    "plt.show()"
   ]
  }
 ],
 "metadata": {
  "kernelspec": {
   "display_name": "Python 3",
   "language": "python",
   "name": "python3"
  },
  "language_info": {
   "codemirror_mode": {
    "name": "ipython",
    "version": 3
   },
   "file_extension": ".py",
   "mimetype": "text/x-python",
   "name": "python",
   "nbconvert_exporter": "python",
   "pygments_lexer": "ipython3",
   "version": "3.7.3"
  }
 },
 "nbformat": 4,
 "nbformat_minor": 2
}
