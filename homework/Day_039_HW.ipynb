{
 "cells": [
  {
   "cell_type": "markdown",
   "metadata": {},
   "source": [
    "## [作業重點]\n",
    "清楚了解 L1, L2 的意義與差異為何，並了解 LASSO 與 Ridge 之間的差異與使用情境"
   ]
  },
  {
   "cell_type": "markdown",
   "metadata": {},
   "source": [
    "## 作業"
   ]
  },
  {
   "cell_type": "markdown",
   "metadata": {},
   "source": [
    "請閱讀相關文獻，並回答下列問題\n",
    "\n",
    "[脊回歸 (Ridge Regression)](https://blog.csdn.net/daunxx/article/details/51578787)\n",
    "[Linear, Ridge, Lasso Regression 本質區別](https://www.zhihu.com/question/38121173)\n",
    "\n",
    "1. LASSO 回歸可以被用來作為 Feature selection 的工具，請了解 LASSO 模型為什麼可用來作 Feature selection\n",
    "2. 當自變數 (X) 存在高度共線性時，Ridge Regression 可以處理這樣的問題嗎?\n"
   ]
  },
  {
   "cell_type": "code",
   "execution_count": null,
   "metadata": {},
   "outputs": [],
   "source": [
    "##可以，設定ALPHA值為懲罰項，調整ALPHA值，讓自變數係數趨近於零，可用來篩選自變數。但使用LASSO會比較方便。\n",
    "\n",
    "##參考\n",
    "#正規化迴歸 ridge(L2 ), lasso (L1 ), Elastice net 增加懲罰項來平滑迴歸曲線，來減少共線性及噪音質的特徵變數 \n",
    "# 變數過多時有以下三個問題，所以要減少特徵變數\n",
    "# 1.特微變數(n)若大於測試資料集(m)，使用迴歸時會出現無限多組解\n",
    "# 2.特徵變數共線性問題，另外可能會有OVER FITTING的問題\n",
    "# 3.特徵變數不可解釋性 \n",
    "#所以用以下的方式來解決特徵變數過多問題\n",
    "# Ridge Regression透過將懲罰參數(β平方)λ∑pj=1β2j加入目標函式中。也因為該參數為對係數做出二階懲罰，故又稱為L2 Penalty懲罰參數。\n",
    "# Lasso模型在目標函式中所使用的是一階懲罰式(β絶對值)λ∑pj=1|βj|，故又稱為L1 Penalty懲罰參數。\n",
    "# 目標函數 LASSO. t = 1/λ ,  minimize{SSE=∑ i=1 n (y i –y ^  i ) 2 } > 0 + λ∑pj=1|βj| > 0，二個是要求最小，所以如果λ->無限大，那y就會變0\n",
    "# PYTHOE LASSO 的 ALPHA 變數是 λ 的標準化.也就是界於0 - 1之間 \n",
    "#參考網頁：https://www.jamleecute.com/regularized-regression-ridge-lasso-elastic/\n",
    "#參考YOUTUBE說明  Regularization Part 1: Ridge Regression https://www.youtube.com/watch?v=Q81RR3yKn30\n",
    "#參考YOUTUBE說明  Regularization Part 2: Lasso Regression https://www.youtube.com/watch?v=NGf0voTMlcs\n",
    "#參考YOUTUBE說明  Regularization Part 3: Elastice net Regression https://www.youtube.com/watch?v=1dKRdX9bfIo"
   ]
  }
 ],
 "metadata": {
  "kernelspec": {
   "display_name": "Python 3",
   "language": "python",
   "name": "python3"
  },
  "language_info": {
   "codemirror_mode": {
    "name": "ipython",
    "version": 3
   },
   "file_extension": ".py",
   "mimetype": "text/x-python",
   "name": "python",
   "nbconvert_exporter": "python",
   "pygments_lexer": "ipython3",
   "version": "3.7.3"
  }
 },
 "nbformat": 4,
 "nbformat_minor": 2
}
