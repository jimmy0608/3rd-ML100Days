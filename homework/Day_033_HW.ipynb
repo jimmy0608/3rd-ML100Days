{
 "cells": [
  {
   "cell_type": "markdown",
   "metadata": {},
   "source": [
    "## 練習時間"
   ]
  },
  {
   "cell_type": "markdown",
   "metadata": {},
   "source": [
    "請觀看李宏毅教授以神奇寶貝進化 CP 值預測的範例，解說何謂機器學習與過擬合。並回答以下問題"
   ]
  },
  {
   "cell_type": "markdown",
   "metadata": {},
   "source": [
    "[youtube](https://www.youtube.com/watch?v=fegAeph9UaA)"
   ]
  },
  {
   "cell_type": "markdown",
   "metadata": {},
   "source": [
    "### 1. 模型的泛化能力 (generalization) 是指什麼？ \n",
    "### 2. 分類問題與回歸問題分別可用的目標函數有哪些？"
   ]
  },
  {
   "cell_type": "code",
   "execution_count": null,
   "metadata": {},
   "outputs": [],
   "source": [
    "### 1. 模型的泛化能力 (generalization) 是指什麼？ \n",
    "#這是機器學習中最佳化（optimization）和泛化（generalization）之間的 trade-off 。\n",
    "‧##  最佳化（optimization） 的目的是找到最小化訓練集損失的最佳參數。\n",
    "## ‧ 泛化（generalization） 則是說明了模型對看不見的數據的行為。\n",
    "\n",
    "## 本文介紹了六種避免 Overfitting 的方法：\n",
    "## 1.搜集更多資料\n",
    "## 資料的收集可以降低 Overfitting 的風險。在資料分析任務中，更多的數據往往能提高模型的準確性，且減少過度擬合的可能性。\n",
    "## 客戶無法提供大量資料，或是資料本身是 skewed distribution(左偏或右偏的分佈)。\n",
    "## 2.Dropout\n",
    "## 透過減少神經網絡的層數、神經元個數等方式，可以限制神經網絡的擬合能力\n",
    "## 3.Early Stopping\n",
    "## 在每一個 epoch 結束時計算驗證集（validation data）的準確率，當準確率不再提高就停止訓練。\n",
    "## 4.Data augmentation\n",
    "## 如果是圖片相關任務的話，我通常會用到 Data augmentation 的方式，它會增加本身數據的多樣性。\n",
    "## 5.Weight Decay\n",
    "## 原理是在 cost function 的後面增加一個懲罰項（代表對某些參數做一些限制），如果一個權重太大，將導致代價過大，因此在反向傳播後就會對該權重進行懲罰，使其保持在一個較小的值。\n",
    "## 6.簡化模型複雜\n",
    "## Overfitting 某方面是呈現出目前模型太強大了，已知具有太多層和隱藏單元的神經網絡非常複雜，所以另一個避免 Overfitting 的方法是直接是減小模型的大小。\n",
    "\n",
    "### 2. 分類問題與回歸問題分別可用的目標函數有哪些？\n",
    "##目標函數基本上都是「損失函數(loss function)」\n",
    "## https://medium.com/@chih.sheng.huang821/%E6%A9%9F%E5%99%A8-%E6%B7%B1%E5%BA%A6%E5%AD%B8%E7%BF%92-%E5%9F%BA%E7%A4%8E%E4%BB%8B%E7%B4%B9-%E6%90%8D%E5%A4%B1%E5%87%BD%E6%95%B8-loss-function-2dcac5ebb6cb"
   ]
  }
 ],
 "metadata": {
  "kernelspec": {
   "display_name": "Python 3",
   "language": "python",
   "name": "python3"
  },
  "language_info": {
   "codemirror_mode": {
    "name": "ipython",
    "version": 3
   },
   "file_extension": ".py",
   "mimetype": "text/x-python",
   "name": "python",
   "nbconvert_exporter": "python",
   "pygments_lexer": "ipython3",
   "version": "3.7.3"
  }
 },
 "nbformat": 4,
 "nbformat_minor": 2
}
